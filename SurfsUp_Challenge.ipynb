{
 "cells": [
  {
   "cell_type": "code",
   "execution_count": 1,
   "metadata": {
    "scrolled": true
   },
   "outputs": [],
   "source": [
    "# Dependencies\n",
    "import numpy as np\n",
    "\n",
    "# Python SQL toolkit and Object Relational Mapper\n",
    "import sqlalchemy\n",
    "from sqlalchemy.ext.automap import automap_base\n",
    "from sqlalchemy.orm import Session\n",
    "from sqlalchemy import create_engine, func\n",
    "\n",
    "import pandas as pd\n",
    "\n",
    "import matplotlib.pyplot as plt\n",
    "import math"
   ]
  },
  {
   "cell_type": "code",
   "execution_count": 2,
   "metadata": {
    "scrolled": true
   },
   "outputs": [],
   "source": [
    "engine = create_engine(\"sqlite:///hawaii.sqlite\")\n",
    "\n",
    "# reflect an existing database into a new model\n",
    "Base = automap_base()\n",
    "# reflect the tables\n",
    "Base.prepare(engine, reflect=True)\n",
    "\n",
    "# Save references to each table\n",
    "Measurement = Base.classes.measurement\n",
    "Station = Base.classes.station"
   ]
  },
  {
   "cell_type": "code",
   "execution_count": 3,
   "metadata": {
    "scrolled": true
   },
   "outputs": [],
   "source": [
    "# Create our session (link) from Python to the DB\n",
    "session = Session(engine)"
   ]
  },
  {
   "cell_type": "markdown",
   "metadata": {},
   "source": [
    "## D1: Determine the Summary Statistics for June"
   ]
  },
  {
   "cell_type": "code",
   "execution_count": 4,
   "metadata": {
    "scrolled": false
   },
   "outputs": [
    {
     "data": {
      "text/plain": [
       "['measurement', 'station']"
      ]
     },
     "execution_count": 4,
     "metadata": {},
     "output_type": "execute_result"
    }
   ],
   "source": [
    "Base.classes.keys()"
   ]
  },
  {
   "cell_type": "code",
   "execution_count": 5,
   "metadata": {
    "scrolled": true
   },
   "outputs": [
    {
     "data": {
      "text/plain": [
       "[{'name': 'id',\n",
       "  'type': INTEGER(),\n",
       "  'nullable': False,\n",
       "  'default': None,\n",
       "  'autoincrement': 'auto',\n",
       "  'primary_key': 1},\n",
       " {'name': 'station',\n",
       "  'type': TEXT(),\n",
       "  'nullable': True,\n",
       "  'default': None,\n",
       "  'autoincrement': 'auto',\n",
       "  'primary_key': 0},\n",
       " {'name': 'date',\n",
       "  'type': TEXT(),\n",
       "  'nullable': True,\n",
       "  'default': None,\n",
       "  'autoincrement': 'auto',\n",
       "  'primary_key': 0},\n",
       " {'name': 'prcp',\n",
       "  'type': FLOAT(),\n",
       "  'nullable': True,\n",
       "  'default': None,\n",
       "  'autoincrement': 'auto',\n",
       "  'primary_key': 0},\n",
       " {'name': 'tobs',\n",
       "  'type': FLOAT(),\n",
       "  'nullable': True,\n",
       "  'default': None,\n",
       "  'autoincrement': 'auto',\n",
       "  'primary_key': 0}]"
      ]
     },
     "execution_count": 5,
     "metadata": {},
     "output_type": "execute_result"
    }
   ],
   "source": [
    "from sqlalchemy import inspect\n",
    "insp = inspect(engine)\n",
    "insp.get_columns('measurement')"
   ]
  },
  {
   "cell_type": "code",
   "execution_count": 6,
   "metadata": {
    "scrolled": true
   },
   "outputs": [],
   "source": [
    "# 1. Import the sqlalchemy extract function.\n",
    "from sqlalchemy import extract\n",
    "\n",
    "# 2. Write a query that filters the Measurement table to retrieve the temperatures for the month of June. \n",
    "June_temps = session.query(Base.classes.measurement.tobs).\\\n",
    "    filter(func.strftime(\"%m\", Base.classes.measurement.date) == \"06\", \n",
    "          Base.classes.measurement.station == 'USC00519281').all()"
   ]
  },
  {
   "cell_type": "code",
   "execution_count": 7,
   "metadata": {
    "scrolled": true
   },
   "outputs": [],
   "source": [
    "#  3. Convert the June temperatures to a list.\n",
    "June_temps_l = list(np.ravel(June_temps))"
   ]
  },
  {
   "cell_type": "code",
   "execution_count": 8,
   "metadata": {
    "scrolled": true
   },
   "outputs": [
    {
     "data": {
      "text/html": [
       "<div>\n",
       "<style scoped>\n",
       "    .dataframe tbody tr th:only-of-type {\n",
       "        vertical-align: middle;\n",
       "    }\n",
       "\n",
       "    .dataframe tbody tr th {\n",
       "        vertical-align: top;\n",
       "    }\n",
       "\n",
       "    .dataframe thead th {\n",
       "        text-align: right;\n",
       "    }\n",
       "</style>\n",
       "<table border=\"1\" class=\"dataframe\">\n",
       "  <thead>\n",
       "    <tr style=\"text-align: right;\">\n",
       "      <th></th>\n",
       "      <th>0</th>\n",
       "    </tr>\n",
       "  </thead>\n",
       "  <tbody>\n",
       "    <tr>\n",
       "      <th>0</th>\n",
       "      <td>71.0</td>\n",
       "    </tr>\n",
       "    <tr>\n",
       "      <th>1</th>\n",
       "      <td>71.0</td>\n",
       "    </tr>\n",
       "    <tr>\n",
       "      <th>2</th>\n",
       "      <td>72.0</td>\n",
       "    </tr>\n",
       "    <tr>\n",
       "      <th>3</th>\n",
       "      <td>72.0</td>\n",
       "    </tr>\n",
       "    <tr>\n",
       "      <th>4</th>\n",
       "      <td>76.0</td>\n",
       "    </tr>\n",
       "  </tbody>\n",
       "</table>\n",
       "</div>"
      ],
      "text/plain": [
       "      0\n",
       "0  71.0\n",
       "1  71.0\n",
       "2  72.0\n",
       "3  72.0\n",
       "4  76.0"
      ]
     },
     "execution_count": 8,
     "metadata": {},
     "output_type": "execute_result"
    }
   ],
   "source": [
    "# 4. Create a DataFrame from the list of temperatures for the month of June. \n",
    "June_temps_df = pd.DataFrame(June_temps_l)\n",
    "June_temps_df.head()"
   ]
  },
  {
   "cell_type": "code",
   "execution_count": 9,
   "metadata": {
    "scrolled": true
   },
   "outputs": [
    {
     "data": {
      "text/html": [
       "<div>\n",
       "<style scoped>\n",
       "    .dataframe tbody tr th:only-of-type {\n",
       "        vertical-align: middle;\n",
       "    }\n",
       "\n",
       "    .dataframe tbody tr th {\n",
       "        vertical-align: top;\n",
       "    }\n",
       "\n",
       "    .dataframe thead th {\n",
       "        text-align: right;\n",
       "    }\n",
       "</style>\n",
       "<table border=\"1\" class=\"dataframe\">\n",
       "  <thead>\n",
       "    <tr style=\"text-align: right;\">\n",
       "      <th></th>\n",
       "      <th>0</th>\n",
       "    </tr>\n",
       "  </thead>\n",
       "  <tbody>\n",
       "    <tr>\n",
       "      <th>count</th>\n",
       "      <td>236.000000</td>\n",
       "    </tr>\n",
       "    <tr>\n",
       "      <th>mean</th>\n",
       "      <td>73.271186</td>\n",
       "    </tr>\n",
       "    <tr>\n",
       "      <th>std</th>\n",
       "      <td>2.989801</td>\n",
       "    </tr>\n",
       "    <tr>\n",
       "      <th>min</th>\n",
       "      <td>65.000000</td>\n",
       "    </tr>\n",
       "    <tr>\n",
       "      <th>25%</th>\n",
       "      <td>71.000000</td>\n",
       "    </tr>\n",
       "    <tr>\n",
       "      <th>50%</th>\n",
       "      <td>73.000000</td>\n",
       "    </tr>\n",
       "    <tr>\n",
       "      <th>75%</th>\n",
       "      <td>75.000000</td>\n",
       "    </tr>\n",
       "    <tr>\n",
       "      <th>max</th>\n",
       "      <td>82.000000</td>\n",
       "    </tr>\n",
       "  </tbody>\n",
       "</table>\n",
       "</div>"
      ],
      "text/plain": [
       "                0\n",
       "count  236.000000\n",
       "mean    73.271186\n",
       "std      2.989801\n",
       "min     65.000000\n",
       "25%     71.000000\n",
       "50%     73.000000\n",
       "75%     75.000000\n",
       "max     82.000000"
      ]
     },
     "execution_count": 9,
     "metadata": {},
     "output_type": "execute_result"
    }
   ],
   "source": [
    "# 5. Calculate and print out the summary statistics for the June temperature DataFrame.\n",
    "June_temps_df.describe()"
   ]
  },
  {
   "cell_type": "markdown",
   "metadata": {},
   "source": [
    "## D2: Determine the Summary Statistics for December"
   ]
  },
  {
   "cell_type": "code",
   "execution_count": 10,
   "metadata": {
    "scrolled": true
   },
   "outputs": [],
   "source": [
    "# 6. Write a query that filters the Measurement table to retrieve the temperatures for the month of December.\n",
    "Dec_temps = session.query(Base.classes.measurement.tobs).\\\n",
    "    filter(func.strftime(\"%m\", Base.classes.measurement.date) == \"12\", \n",
    "          Base.classes.measurement.station == 'USC00519281').all()"
   ]
  },
  {
   "cell_type": "code",
   "execution_count": 11,
   "metadata": {
    "scrolled": true
   },
   "outputs": [],
   "source": [
    "# 7. Convert the December temperatures to a list.\n",
    "Dec_temps_l = list(np.ravel(Dec_temps))"
   ]
  },
  {
   "cell_type": "code",
   "execution_count": 27,
   "metadata": {
    "scrolled": true
   },
   "outputs": [
    {
     "data": {
      "text/html": [
       "<div>\n",
       "<style scoped>\n",
       "    .dataframe tbody tr th:only-of-type {\n",
       "        vertical-align: middle;\n",
       "    }\n",
       "\n",
       "    .dataframe tbody tr th {\n",
       "        vertical-align: top;\n",
       "    }\n",
       "\n",
       "    .dataframe thead th {\n",
       "        text-align: right;\n",
       "    }\n",
       "</style>\n",
       "<table border=\"1\" class=\"dataframe\">\n",
       "  <thead>\n",
       "    <tr style=\"text-align: right;\">\n",
       "      <th></th>\n",
       "      <th>0</th>\n",
       "    </tr>\n",
       "  </thead>\n",
       "  <tbody>\n",
       "    <tr>\n",
       "      <th>0</th>\n",
       "      <td>72.0</td>\n",
       "    </tr>\n",
       "    <tr>\n",
       "      <th>1</th>\n",
       "      <td>71.0</td>\n",
       "    </tr>\n",
       "    <tr>\n",
       "      <th>2</th>\n",
       "      <td>72.0</td>\n",
       "    </tr>\n",
       "    <tr>\n",
       "      <th>3</th>\n",
       "      <td>74.0</td>\n",
       "    </tr>\n",
       "    <tr>\n",
       "      <th>4</th>\n",
       "      <td>66.0</td>\n",
       "    </tr>\n",
       "  </tbody>\n",
       "</table>\n",
       "</div>"
      ],
      "text/plain": [
       "      0\n",
       "0  72.0\n",
       "1  71.0\n",
       "2  72.0\n",
       "3  74.0\n",
       "4  66.0"
      ]
     },
     "execution_count": 27,
     "metadata": {},
     "output_type": "execute_result"
    }
   ],
   "source": [
    "# 8. Create a DataFrame from the list of temperatures for the month of December. \n",
    "Dec_temps_df = pd.DataFrame(Dec_temps_l)\n",
    "Dec_temps_df.head()"
   ]
  },
  {
   "cell_type": "code",
   "execution_count": 13,
   "metadata": {
    "scrolled": true
   },
   "outputs": [
    {
     "data": {
      "text/html": [
       "<div>\n",
       "<style scoped>\n",
       "    .dataframe tbody tr th:only-of-type {\n",
       "        vertical-align: middle;\n",
       "    }\n",
       "\n",
       "    .dataframe tbody tr th {\n",
       "        vertical-align: top;\n",
       "    }\n",
       "\n",
       "    .dataframe thead th {\n",
       "        text-align: right;\n",
       "    }\n",
       "</style>\n",
       "<table border=\"1\" class=\"dataframe\">\n",
       "  <thead>\n",
       "    <tr style=\"text-align: right;\">\n",
       "      <th></th>\n",
       "      <th>0</th>\n",
       "    </tr>\n",
       "  </thead>\n",
       "  <tbody>\n",
       "    <tr>\n",
       "      <th>count</th>\n",
       "      <td>217.000000</td>\n",
       "    </tr>\n",
       "    <tr>\n",
       "      <th>mean</th>\n",
       "      <td>69.903226</td>\n",
       "    </tr>\n",
       "    <tr>\n",
       "      <th>std</th>\n",
       "      <td>3.803609</td>\n",
       "    </tr>\n",
       "    <tr>\n",
       "      <th>min</th>\n",
       "      <td>58.000000</td>\n",
       "    </tr>\n",
       "    <tr>\n",
       "      <th>25%</th>\n",
       "      <td>68.000000</td>\n",
       "    </tr>\n",
       "    <tr>\n",
       "      <th>50%</th>\n",
       "      <td>70.000000</td>\n",
       "    </tr>\n",
       "    <tr>\n",
       "      <th>75%</th>\n",
       "      <td>73.000000</td>\n",
       "    </tr>\n",
       "    <tr>\n",
       "      <th>max</th>\n",
       "      <td>79.000000</td>\n",
       "    </tr>\n",
       "  </tbody>\n",
       "</table>\n",
       "</div>"
      ],
      "text/plain": [
       "                0\n",
       "count  217.000000\n",
       "mean    69.903226\n",
       "std      3.803609\n",
       "min     58.000000\n",
       "25%     68.000000\n",
       "50%     70.000000\n",
       "75%     73.000000\n",
       "max     79.000000"
      ]
     },
     "execution_count": 13,
     "metadata": {},
     "output_type": "execute_result"
    }
   ],
   "source": [
    "# 9. Calculate and print out the summary statistics for the Decemeber temperature DataFrame.\n",
    "Dec_temps_df.describe()"
   ]
  },
  {
   "cell_type": "code",
   "execution_count": 28,
   "metadata": {
    "scrolled": true
   },
   "outputs": [
    {
     "data": {
      "image/png": "[encoded data removed]",
      "text/plain": [
       "<Figure size 432x288 with 1 Axes>"
      ]
     },
     "metadata": {
      "needs_background": "light"
     },
     "output_type": "display_data"
    },
    {
     "data": {
      "text/plain": [
       "(None,\n",
       "                 0\n",
       " count  236.000000\n",
       " mean    73.271186\n",
       " std      2.989801\n",
       " min     65.000000\n",
       " 25%     71.000000\n",
       " 50%     73.000000\n",
       " 75%     75.000000\n",
       " max     82.000000)"
      ]
     },
     "execution_count": 28,
     "metadata": {},
     "output_type": "execute_result"
    }
   ],
   "source": [
    "June_temps_df.plot.hist(bins=35)\n",
    "plt.xlabel('Temperature')\n",
    "plt.ylabel('Days in June')\n",
    "plt.xlim(50, 85)\n",
    "plt.savefig('analysis/temp_june_plt.png')\n",
    "plt.show(), June_temps_df.describe()"
   ]
  },
  {
   "cell_type": "code",
   "execution_count": 29,
   "metadata": {
    "scrolled": true
   },
   "outputs": [
    {
     "data": {
      "image/png": "[encoded data removed]",
      "text/plain": [
       "<Figure size 432x288 with 1 Axes>"
      ]
     },
     "metadata": {
      "needs_background": "light"
     },
     "output_type": "display_data"
    },
    {
     "data": {
      "text/plain": [
       "(None,\n",
       "                 0\n",
       " count  217.000000\n",
       " mean    69.903226\n",
       " std      3.803609\n",
       " min     58.000000\n",
       " 25%     68.000000\n",
       " 50%     70.000000\n",
       " 75%     73.000000\n",
       " max     79.000000)"
      ]
     },
     "execution_count": 29,
     "metadata": {},
     "output_type": "execute_result"
    }
   ],
   "source": [
    "Dec_temps_df.plot.hist(bins=35)\n",
    "plt.xlabel('Temperature')\n",
    "plt.ylabel('Days in December')\n",
    "plt.xlim(50, 85)\n",
    "plt.savefig('analysis/temp_dec_plt.png')\n",
    "plt.show(), Dec_temps_df.describe()"
   ]
  },
  {
   "cell_type": "code",
   "execution_count": 30,
   "metadata": {
    "scrolled": true
   },
   "outputs": [
    {
     "data": {
      "image/png": "[encoded data removed]",
      "text/plain": [
       "<Figure size 432x288 with 1 Axes>"
      ]
     },
     "metadata": {
      "needs_background": "light"
     },
     "output_type": "display_data"
    },
    {
     "data": {
      "text/plain": [
       "(None,\n",
       "                  0\n",
       " count  2772.000000\n",
       " mean     71.663781\n",
       " std       4.357642\n",
       " min      54.000000\n",
       " 25%      69.000000\n",
       " 50%      72.000000\n",
       " 75%      74.000000\n",
       " max      85.000000)"
      ]
     },
     "execution_count": 30,
     "metadata": {},
     "output_type": "execute_result"
    }
   ],
   "source": [
    "whole_per_temps = session.query(Base.classes.measurement.tobs).\\\n",
    "    filter(Base.classes.measurement.station == 'USC00519281').all()\n",
    "whole_per_temps_l = list(np.ravel(whole_per_temps))\n",
    "whole_per_temps_df = pd.DataFrame(whole_per_temps_l)\n",
    "whole_per_temps_df.head()\n",
    "whole_per_temps_df.plot.hist(bins=35)\n",
    "plt.xlabel('Temperature')\n",
    "plt.ylabel('Days (whole period)')\n",
    "plt.xlim(50, 85)\n",
    "plt.savefig('analysis/temp_whp_plt.png')\n",
    "plt.show(), whole_per_temps_df.describe()"
   ]
  },
  {
   "cell_type": "code",
   "execution_count": 33,
   "metadata": {
    "scrolled": true
   },
   "outputs": [
    {
     "data": {
      "image/png": "[encoded data removed]",
      "text/plain": [
       "<Figure size 432x288 with 1 Axes>"
      ]
     },
     "metadata": {
      "needs_background": "light"
     },
     "output_type": "display_data"
    },
    {
     "data": {
      "text/plain": [
       "(None,\n",
       "                 0\n",
       " count  236.000000\n",
       " mean     0.151525\n",
       " std      0.213496\n",
       " min      0.000000\n",
       " 25%      0.010000\n",
       " 50%      0.060000\n",
       " 75%      0.212500\n",
       " max      1.390000)"
      ]
     },
     "execution_count": 33,
     "metadata": {},
     "output_type": "execute_result"
    }
   ],
   "source": [
    "June_prcps = session.query(Base.classes.measurement.prcp).\\\n",
    "    filter(func.strftime(\"%m\", Base.classes.measurement.date) == \"06\", \n",
    "          Base.classes.measurement.station == 'USC00519281').all()\n",
    "June_prcps_l = list(np.ravel(June_prcps))\n",
    "June_prcps_df = pd.DataFrame(June_prcps_l)\n",
    "start = -3\n",
    "stop = 1\n",
    "June_prcps_df.plot.hist(bins=np.logspace(start=start, stop=stop, num=200))\n",
    "plt.xlabel('Precipitation (log scale)')\n",
    "plt.ylabel('Days in June')\n",
    "plt.xscale('log')\n",
    "plt.xlim(10**start, 10**stop)\n",
    "plt.savefig('analysis/prcp_june_plt.png')\n",
    "plt.show(), June_prcps_df.describe()"
   ]
  },
  {
   "cell_type": "code",
   "execution_count": 31,
   "metadata": {},
   "outputs": [
    {
     "data": {
      "text/html": [
       "<div>\n",
       "<style scoped>\n",
       "    .dataframe tbody tr th:only-of-type {\n",
       "        vertical-align: middle;\n",
       "    }\n",
       "\n",
       "    .dataframe tbody tr th {\n",
       "        vertical-align: top;\n",
       "    }\n",
       "\n",
       "    .dataframe thead th {\n",
       "        text-align: right;\n",
       "    }\n",
       "</style>\n",
       "<table border=\"1\" class=\"dataframe\">\n",
       "  <thead>\n",
       "    <tr style=\"text-align: right;\">\n",
       "      <th></th>\n",
       "      <th>0</th>\n",
       "    </tr>\n",
       "  </thead>\n",
       "  <tbody>\n",
       "    <tr>\n",
       "      <th>0</th>\n",
       "      <td>0.00</td>\n",
       "    </tr>\n",
       "    <tr>\n",
       "      <th>1</th>\n",
       "      <td>0.03</td>\n",
       "    </tr>\n",
       "    <tr>\n",
       "      <th>2</th>\n",
       "      <td>0.00</td>\n",
       "    </tr>\n",
       "    <tr>\n",
       "      <th>3</th>\n",
       "      <td>0.00</td>\n",
       "    </tr>\n",
       "    <tr>\n",
       "      <th>4</th>\n",
       "      <td>0.00</td>\n",
       "    </tr>\n",
       "    <tr>\n",
       "      <th>...</th>\n",
       "      <td>...</td>\n",
       "    </tr>\n",
       "    <tr>\n",
       "      <th>231</th>\n",
       "      <td>0.06</td>\n",
       "    </tr>\n",
       "    <tr>\n",
       "      <th>232</th>\n",
       "      <td>0.01</td>\n",
       "    </tr>\n",
       "    <tr>\n",
       "      <th>233</th>\n",
       "      <td>0.00</td>\n",
       "    </tr>\n",
       "    <tr>\n",
       "      <th>234</th>\n",
       "      <td>0.00</td>\n",
       "    </tr>\n",
       "    <tr>\n",
       "      <th>235</th>\n",
       "      <td>0.01</td>\n",
       "    </tr>\n",
       "  </tbody>\n",
       "</table>\n",
       "<p>236 rows × 1 columns</p>\n",
       "</div>"
      ],
      "text/plain": [
       "        0\n",
       "0    0.00\n",
       "1    0.03\n",
       "2    0.00\n",
       "3    0.00\n",
       "4    0.00\n",
       "..    ...\n",
       "231  0.06\n",
       "232  0.01\n",
       "233  0.00\n",
       "234  0.00\n",
       "235  0.01\n",
       "\n",
       "[236 rows x 1 columns]"
      ]
     },
     "execution_count": 31,
     "metadata": {},
     "output_type": "execute_result"
    }
   ],
   "source": [
    "June_prcps_df"
   ]
  },
  {
   "cell_type": "code",
   "execution_count": 34,
   "metadata": {
    "scrolled": true
   },
   "outputs": [
    {
     "data": {
      "image/png": "[encoded data removed]",
      "text/plain": [
       "<Figure size 432x288 with 1 Axes>"
      ]
     },
     "metadata": {
      "needs_background": "light"
     },
     "output_type": "display_data"
    },
    {
     "data": {
      "text/plain": [
       "(None,\n",
       "                 0\n",
       " count  217.000000\n",
       " mean     0.244931\n",
       " std      0.489789\n",
       " min      0.000000\n",
       " 25%      0.010000\n",
       " 50%      0.070000\n",
       " 75%      0.230000\n",
       " max      3.140000)"
      ]
     },
     "execution_count": 34,
     "metadata": {},
     "output_type": "execute_result"
    }
   ],
   "source": [
    "Dec_prcps = session.query(Base.classes.measurement.prcp).\\\n",
    "    filter(func.strftime(\"%m\", Base.classes.measurement.date) == \"12\", \n",
    "          Base.classes.measurement.station == 'USC00519281').all()\n",
    "Dec_prcps_l = list(np.ravel(Dec_prcps))\n",
    "Dec_prcps_df = pd.DataFrame(Dec_prcps_l)\n",
    "Dec_prcps_df.head()\n",
    "start = -3\n",
    "stop = 1\n",
    "Dec_prcps_df.plot.hist(bins=np.logspace(start=start, stop=stop, num=200))\n",
    "plt.xlabel('Precipitation (log scale)')\n",
    "plt.ylabel('Days in December')\n",
    "plt.xscale('log')\n",
    "plt.xlim(10**start, 10**stop)\n",
    "plt.savefig('analysis/prcp_dec_plt.png')\n",
    "plt.show(), Dec_prcps_df.describe()"
   ]
  },
  {
   "cell_type": "code",
   "execution_count": 35,
   "metadata": {
    "scrolled": true
   },
   "outputs": [
    {
     "data": {
      "image/png": "[encoded data removed]",
      "text/plain": [
       "<Figure size 432x288 with 1 Axes>"
      ]
     },
     "metadata": {
      "needs_background": "light"
     },
     "output_type": "display_data"
    },
    {
     "data": {
      "text/plain": [
       "(None,\n",
       "                  0\n",
       " count  2772.000000\n",
       " mean      0.212352\n",
       " std       0.543312\n",
       " min       0.000000\n",
       " 25%       0.000000\n",
       " 50%       0.040000\n",
       " 75%       0.190000\n",
       " max       9.640000)"
      ]
     },
     "execution_count": 35,
     "metadata": {},
     "output_type": "execute_result"
    }
   ],
   "source": [
    "whole_per_prcps = session.query(Base.classes.measurement.prcp).\\\n",
    "    filter(Base.classes.measurement.station == 'USC00519281').all()\n",
    "whole_per_prcps_l = list(np.ravel(whole_per_prcps))\n",
    "whole_per_prcps_df = pd.DataFrame(whole_per_prcps_l)\n",
    "whole_per_prcps_df.head()\n",
    "whole_per_prcps_df.plot.hist(bins=np.logspace(start=start, stop=stop, num=200))\n",
    "plt.xlabel('Precipitation (log scale)')\n",
    "plt.ylabel('Log of [Days in whole period]')\n",
    "plt.xscale('log')\n",
    "plt.xlim(10**start, 10**stop)\n",
    "plt.savefig('analysis/prcp_whp_plt.png')\n",
    "plt.show(), whole_per_prcps_df.describe()"
   ]
  },
  {
   "cell_type": "code",
   "execution_count": 20,
   "metadata": {
    "scrolled": false
   },
   "outputs": [
    {
     "data": {
      "image/png": "[encoded data removed]",
      "text/plain": [
       "<Figure size 720x432 with 1 Axes>"
      ]
     },
     "metadata": {
      "needs_background": "light"
     },
     "output_type": "display_data"
    }
   ],
   "source": [
    "x_labels = [\"June\", \"December\",\"Whole Preiod\"]\n",
    "temp_data = [June_temps_df[0], Dec_temps_df[0], whole_per_temps_df[0]]\n",
    "fig, ax = plt.subplots(figsize=(10, 6))\n",
    "ax.set_title('Temperature Comparison',fontsize=20)\n",
    "ax.set_ylabel('Temperature',fontsize=14)\n",
    "# ax.set_xlabel(\"Temperature\",fontsize=14)\n",
    "ax.boxplot(temp_data, labels=x_labels)\n",
    "ax.set_yticks(np.arange(50, 90, step=5.0))\n",
    "ax.grid()\n",
    "# Save the figure.\n",
    "plt.savefig(\"analysis/temp_box_plot.png\")\n",
    "plt.show()"
   ]
  },
  {
   "cell_type": "code",
   "execution_count": 21,
   "metadata": {
    "scrolled": true
   },
   "outputs": [
    {
     "data": {
      "image/png": "[encoded data removed]",
      "text/plain": [
       "<Figure size 720x432 with 1 Axes>"
      ]
     },
     "metadata": {
      "needs_background": "light"
     },
     "output_type": "display_data"
    }
   ],
   "source": [
    "# x_labels = [\"June\", \"December\",\"Whole Preiod\"]\n",
    "# June_prcps_df[1] = [0 if p == 0 else math.log(p) for p in June_prcps_df[0]]\n",
    "# Dec_prcps_df[1] = [0 if p == 0 else math.log(p) for p in Dec_prcps_df[0]]\n",
    "# whole_per_prcps_df[1] = [0 if p == 0 else math.log(p) for p in whole_per_prcps_df[0]]\n",
    "# prcp_data = [June_prcps_df[1], Dec_prcps_df[1], whole_per_prcps_df[1]]\n",
    "# fig, ax = plt.subplots(figsize=(10, 6))\n",
    "# ax.set_title('Precipitation Comparison',fontsize=20)\n",
    "# ax.set_ylabel('Log of [Precipitation]',fontsize=14)\n",
    "# # ax.set_yscale('log')\n",
    "# # ax.set_xlabel(\"Temperature\",fontsize=14)\n",
    "# ax.boxplot(prcp_data, labels=x_labels)\n",
    "# ax.set_yticks(np.arange(math.floor(min(whole_per_prcps_df[1])), \n",
    "#                         math.ceil(max(whole_per_prcps_df[1])), \n",
    "#                         step=0.5))\n",
    "# ax.grid()\n",
    "# # Save the figure.\n",
    "# plt.savefig(\"analysis/prcp_box_plot.png\")\n",
    "# plt.show()\n",
    "\n",
    "x_labels = [\"June\", \"December\",\"Whole Preiod\"]\n",
    "prcp_data = [June_prcps_df[0], Dec_prcps_df[0], whole_per_prcps_df[0]]\n",
    "fig, ax = plt.subplots(figsize=(10, 6))\n",
    "ax.set_title('Precipitation Comparison',fontsize=20)\n",
    "ax.set_ylabel('Precipitation (log scale)',fontsize=14)\n",
    "ax.set_yscale('log')\n",
    "# ax.set_xlabel(\"Temperature\",fontsize=14)\n",
    "ax.boxplot(prcp_data, labels=x_labels)\n",
    "start = -3\n",
    "stop = 1\n",
    "ax.set_yticks(np.logspace(start=start, stop=stop, num=5))\n",
    "ax.grid()\n",
    "# Save the figure.\n",
    "plt.savefig(\"analysis/prcp_box_plot.png\")\n",
    "plt.show()"
   ]
  }
 ],
 "metadata": {
  "kernelspec": {
   "display_name": "PythonData",
   "language": "python",
   "name": "pythondata"
  },
  "language_info": {
   "codemirror_mode": {
    "name": "ipython",
    "version": 3
   },
   "file_extension": ".py",
   "mimetype": "text/x-python",
   "name": "python",
   "nbconvert_exporter": "python",
   "pygments_lexer": "ipython3",
   "version": "3.9.7"
  }
 },
 "nbformat": 4,
 "nbformat_minor": 2
}
